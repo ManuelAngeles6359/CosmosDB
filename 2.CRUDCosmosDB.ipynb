{
 "cells": [
  {
   "cell_type": "code",
   "execution_count": 1,
   "metadata": {},
   "outputs": [],
   "source": [
    "\n",
    "\n",
    "COSMOS_ENDPOINT = 'https://azcdb-mad.documents.azure.com:443/'\n",
    "COSMOS_KEY = ''\n",
    "\n",
    "DATABASE_NAME = 'Test'\n",
    "CONTAINER_NAME = 'retail'\n"
   ]
  },
  {
   "cell_type": "code",
   "execution_count": 3,
   "metadata": {},
   "outputs": [],
   "source": [
    "from azure.cosmos import CosmosClient, exceptions, PartitionKey"
   ]
  },
  {
   "cell_type": "code",
   "execution_count": 4,
   "metadata": {},
   "outputs": [],
   "source": [
    "client = CosmosClient(COSMOS_ENDPOINT, COSMOS_KEY)"
   ]
  },
  {
   "cell_type": "code",
   "execution_count": 5,
   "metadata": {},
   "outputs": [],
   "source": [
    "database = client.create_database_if_not_exists(id=DATABASE_NAME)"
   ]
  },
  {
   "cell_type": "code",
   "execution_count": 6,
   "metadata": {},
   "outputs": [],
   "source": [
    "container = database.create_container_if_not_exists(\n",
    "    id=CONTAINER_NAME,\n",
    "    partition_key=PartitionKey(path=\"/id\"),\n",
    "    offer_throughput=400    \n",
    ")"
   ]
  },
  {
   "cell_type": "code",
   "execution_count": 7,
   "metadata": {},
   "outputs": [
    {
     "data": {
      "text/plain": [
       "dict"
      ]
     },
     "execution_count": 7,
     "metadata": {},
     "output_type": "execute_result"
    }
   ],
   "source": [
    "documento = {\n",
    "    \"id\":\"1\",\n",
    "    \"nombre\":\"Producto A\",\n",
    "    \"descripcion\":\"Descripción del producto A\",\n",
    "    \"precio\":29.99,\n",
    "    \"categoria\":\"Electronica\"\n",
    "}\n",
    "\n",
    "type(documento)"
   ]
  },
  {
   "cell_type": "code",
   "execution_count": 8,
   "metadata": {},
   "outputs": [
    {
     "data": {
      "text/plain": [
       "{'id': '1',\n",
       " 'nombre': 'Producto A',\n",
       " 'descripcion': 'Descripción del producto A',\n",
       " 'precio': 29.99,\n",
       " 'categoria': 'Electronica',\n",
       " '_rid': '0ehXAKsOt9ABAAAAAAAAAA==',\n",
       " '_self': 'dbs/0ehXAA==/colls/0ehXAKsOt9A=/docs/0ehXAKsOt9ABAAAAAAAAAA==/',\n",
       " '_etag': '\"940087e0-0000-0800-0000-67199a7f0000\"',\n",
       " '_attachments': 'attachments/',\n",
       " '_ts': 1729731199}"
      ]
     },
     "execution_count": 8,
     "metadata": {},
     "output_type": "execute_result"
    }
   ],
   "source": [
    "container.create_item(body=documento)"
   ]
  },
  {
   "cell_type": "code",
   "execution_count": 13,
   "metadata": {},
   "outputs": [
    {
     "name": "stdout",
     "output_type": "stream",
     "text": [
      "[{'id': '1', 'nombre': 'Producto A', 'descripcion': 'Descripción del producto A', 'precio': 29.99, 'categoria': 'Electronica', '_rid': '0ehXAKsOt9ABAAAAAAAAAA==', '_self': 'dbs/0ehXAA==/colls/0ehXAKsOt9A=/docs/0ehXAKsOt9ABAAAAAAAAAA==/', '_etag': '\"940087e0-0000-0800-0000-67199a7f0000\"', '_attachments': 'attachments/', '_ts': 1729731199}]\n"
     ]
    }
   ],
   "source": [
    "query = 'SELECT * FROM c'\n",
    "\n",
    "items = list(container.query_items(\n",
    "    query=query,\n",
    "    enable_cross_partition_query=True\n",
    "))\n",
    "\n",
    "print(items)"
   ]
  }
 ],
 "metadata": {
  "kernelspec": {
   "display_name": "Python 3",
   "language": "python",
   "name": "python3"
  },
  "language_info": {
   "codemirror_mode": {
    "name": "ipython",
    "version": 3
   },
   "file_extension": ".py",
   "mimetype": "text/x-python",
   "name": "python",
   "nbconvert_exporter": "python",
   "pygments_lexer": "ipython3",
   "version": "3.12.1"
  }
 },
 "nbformat": 4,
 "nbformat_minor": 2
}
