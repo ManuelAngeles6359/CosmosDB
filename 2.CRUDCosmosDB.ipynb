{
 "cells": [
  {
   "cell_type": "code",
   "execution_count": 1,
   "metadata": {},
   "outputs": [],
   "source": [
    "\n",
    "\n",
    "COSMOS_ENDPOINT = 'https://azcdb-mad.documents.azure.com:443/'\n",
    "COSMOS_KEY = ''\n",
    "\n",
    "DATABASE_NAME = 'Test'\n",
    "CONTAINER_NAME = 'retail'\n"
   ]
  },
  {
   "cell_type": "code",
   "execution_count": 2,
   "metadata": {},
   "outputs": [],
   "source": [
    "from azure.cosmos import CosmosClient, exceptions, PartitionKey"
   ]
  },
  {
   "cell_type": "code",
   "execution_count": 3,
   "metadata": {},
   "outputs": [],
   "source": [
    "client = CosmosClient(COSMOS_ENDPOINT, COSMOS_KEY)"
   ]
  },
  {
   "cell_type": "code",
   "execution_count": 4,
   "metadata": {},
   "outputs": [],
   "source": [
    "database = client.create_database_if_not_exists(id=DATABASE_NAME)"
   ]
  },
  {
   "cell_type": "code",
   "execution_count": 5,
   "metadata": {},
   "outputs": [],
   "source": [
    "container = database.create_container_if_not_exists(\n",
    "    id=CONTAINER_NAME,\n",
    "    partition_key=PartitionKey(path=\"/id\"),\n",
    "    offer_throughput=400    \n",
    ")"
   ]
  },
  {
   "cell_type": "code",
   "execution_count": 7,
   "metadata": {},
   "outputs": [
    {
     "data": {
      "text/plain": [
       "dict"
      ]
     },
     "execution_count": 7,
     "metadata": {},
     "output_type": "execute_result"
    }
   ],
   "source": [
    "documento = {\n",
    "    \"id\":\"1\",\n",
    "    \"nombre\":\"Producto A\",\n",
    "    \"descripcion\":\"Descripción del producto A\",\n",
    "    \"precio\":29.99,\n",
    "    \"categoria\":\"Electronica\"\n",
    "}\n",
    "\n",
    "type(documento)"
   ]
  },
  {
   "cell_type": "code",
   "execution_count": 8,
   "metadata": {},
   "outputs": [
    {
     "data": {
      "text/plain": [
       "{'id': '1',\n",
       " 'nombre': 'Producto A',\n",
       " 'descripcion': 'Descripción del producto A',\n",
       " 'precio': 29.99,\n",
       " 'categoria': 'Electronica',\n",
       " '_rid': '0ehXAKsOt9ABAAAAAAAAAA==',\n",
       " '_self': 'dbs/0ehXAA==/colls/0ehXAKsOt9A=/docs/0ehXAKsOt9ABAAAAAAAAAA==/',\n",
       " '_etag': '\"940087e0-0000-0800-0000-67199a7f0000\"',\n",
       " '_attachments': 'attachments/',\n",
       " '_ts': 1729731199}"
      ]
     },
     "execution_count": 8,
     "metadata": {},
     "output_type": "execute_result"
    }
   ],
   "source": [
    "container.create_item(body=documento)"
   ]
  },
  {
   "cell_type": "code",
   "execution_count": 10,
   "metadata": {},
   "outputs": [
    {
     "name": "stdout",
     "output_type": "stream",
     "text": [
      "[{'id': '1', 'nombre': 'Producto A', 'descripcion': 'Descripción del producto A', 'precio': 25.99, 'categoria': 'Electronica', '_rid': '0ehXAKsOt9ABAAAAAAAAAA==', '_self': 'dbs/0ehXAA==/colls/0ehXAKsOt9A=/docs/0ehXAKsOt9ABAAAAAAAAAA==/', '_etag': '\"9500ad0e-0000-0800-0000-6719bc080000\"', '_attachments': 'attachments/', 'departamento': 'Artefactos', '_ts': 1729739784}]\n"
     ]
    }
   ],
   "source": [
    "query = 'SELECT * FROM c'\n",
    "\n",
    "items = list(container.query_items(\n",
    "    query=query,\n",
    "    enable_cross_partition_query=True\n",
    "))\n",
    "\n",
    "print(items)"
   ]
  },
  {
   "cell_type": "code",
   "execution_count": 6,
   "metadata": {},
   "outputs": [
    {
     "data": {
      "text/plain": [
       "{'id': '1',\n",
       " 'nombre': 'Producto A',\n",
       " 'descripcion': 'Descripción del producto A',\n",
       " 'precio': 29.99,\n",
       " 'categoria': 'Electronica',\n",
       " '_rid': '0ehXAKsOt9ABAAAAAAAAAA==',\n",
       " '_self': 'dbs/0ehXAA==/colls/0ehXAKsOt9A=/docs/0ehXAKsOt9ABAAAAAAAAAA==/',\n",
       " '_etag': '\"940087e0-0000-0800-0000-67199a7f0000\"',\n",
       " '_attachments': 'attachments/',\n",
       " '_ts': 1729731199}"
      ]
     },
     "execution_count": 6,
     "metadata": {},
     "output_type": "execute_result"
    }
   ],
   "source": [
    "item = container.read_item(item=\"1\", partition_key=\"1\")\n",
    "item"
   ]
  },
  {
   "cell_type": "code",
   "execution_count": 7,
   "metadata": {},
   "outputs": [
    {
     "data": {
      "text/plain": [
       "dict"
      ]
     },
     "execution_count": 7,
     "metadata": {},
     "output_type": "execute_result"
    }
   ],
   "source": [
    "type(item)"
   ]
  },
  {
   "cell_type": "code",
   "execution_count": 14,
   "metadata": {},
   "outputs": [
    {
     "name": "stdout",
     "output_type": "stream",
     "text": [
      "Error al actualizar el documento (NotFound) Entity with the specified id does not exist in the system. More info: https://aka.ms/cosmosdb-tsg-not-found, \n",
      "RequestStartTime: 2024-10-24T03:41:32.2473118Z, RequestEndTime: 2024-10-24T03:41:32.2670574Z,  Number of regions attempted:1\n",
      "{\"systemHistory\":[{\"dateUtc\":\"2024-10-24T03:40:39.7695580Z\",\"cpu\":0.324,\"memory\":492371168.000,\"threadInfo\":{\"isThreadStarving\":\"False\",\"threadWaitIntervalInMs\":0.1191,\"availableThreads\":32765,\"minThreads\":52,\"maxThreads\":32767},\"numberOfOpenTcpConnection\":594},{\"dateUtc\":\"2024-10-24T03:40:49.7798316Z\",\"cpu\":0.156,\"memory\":492528984.000,\"threadInfo\":{\"isThreadStarving\":\"False\",\"threadWaitIntervalInMs\":0.0521,\"availableThreads\":32765,\"minThreads\":52,\"maxThreads\":32767},\"numberOfOpenTcpConnection\":595},{\"dateUtc\":\"2024-10-24T03:40:59.7899555Z\",\"cpu\":0.111,\"memory\":492532336.000,\"threadInfo\":{\"isThreadStarving\":\"False\",\"threadWaitIntervalInMs\":0.0801,\"availableThreads\":32765,\"minThreads\":52,\"maxThreads\":32767},\"numberOfOpenTcpConnection\":595},{\"dateUtc\":\"2024-10-24T03:41:09.8003149Z\",\"cpu\":0.201,\"memory\":492533592.000,\"threadInfo\":{\"isThreadStarving\":\"False\",\"threadWaitIntervalInMs\":0.1838,\"availableThreads\":32765,\"minThreads\":52,\"maxThreads\":32767},\"numberOfOpenTcpConnection\":595},{\"dateUtc\":\"2024-10-24T03:41:19.8104631Z\",\"cpu\":0.132,\"memory\":492533252.000,\"threadInfo\":{\"isThreadStarving\":\"False\",\"threadWaitIntervalInMs\":0.0388,\"availableThreads\":32765,\"minThreads\":52,\"maxThreads\":32767},\"numberOfOpenTcpConnection\":595},{\"dateUtc\":\"2024-10-24T03:41:29.8205576Z\",\"cpu\":0.177,\"memory\":492450764.000,\"threadInfo\":{\"isThreadStarving\":\"False\",\"threadWaitIntervalInMs\":0.0702,\"availableThreads\":32765,\"minThreads\":52,\"maxThreads\":32767},\"numberOfOpenTcpConnection\":595}]}\n",
      "RequestStart: 2024-10-24T03:41:32.2475949Z; ResponseTime: 2024-10-24T03:41:32.2670574Z; StoreResult: StorePhysicalAddress: rntbd://cdb-ms-prod-westus2-be185.documents.azure.com:14178/apps/0d4cce93-0bf2-4064-976d-8940fdf1ad7e/services/67679427-d37b-474a-94be-c21d0b80b326/partitions/041b8985-a45d-48fd-9ca9-71e67c74177a/replicas/133742043134906936s, LSN: 4, GlobalCommittedLsn: 4, PartitionKeyRangeId: 0, IsValid: True, StatusCode: 404, SubStatusCode: 0, RequestCharge: 1, ItemLSN: -1, SessionToken: -1#4, UsingLocalLSN: True, TransportException: null, BELatencyMs: 0.308, ActivityId: 5df4a4e8-ca85-415e-97a6-5463e1959d39, RetryAfterInMs: , ReplicaHealthStatuses: [(port: 14330 | status: Unknown | lkt: 10/24/2024 3:06:04 AM),(port: 14091 | status: Unknown | lkt: 10/24/2024 3:06:04 AM),(port: 14178 | status: Unknown | lkt: 10/24/2024 3:06:04 AM),(port: 14329 | status: Unknown | lkt: 10/24/2024 3:06:04 AM)], TransportRequestTimeline: {\"requestTimeline\":[{\"event\": \"Created\", \"startTimeUtc\": \"2024-10-24T03:41:32.2475231Z\", \"durationInMs\": 0.0077},{\"event\": \"ChannelAcquisitionStarted\", \"startTimeUtc\": \"2024-10-24T03:41:32.2475308Z\", \"durationInMs\": 18.4368},{\"event\": \"Pipelined\", \"startTimeUtc\": \"2024-10-24T03:41:32.2659676Z\", \"durationInMs\": 0.0596},{\"event\": \"Transit Time\", \"startTimeUtc\": \"2024-10-24T03:41:32.2660272Z\", \"durationInMs\": 0.8262},{\"event\": \"Received\", \"startTimeUtc\": \"2024-10-24T03:41:32.2668534Z\", \"durationInMs\": 0.1902},{\"event\": \"Completed\", \"startTimeUtc\": \"2024-10-24T03:41:32.2670436Z\", \"durationInMs\": 0}],\"serviceEndpointStats\":{\"inflightRequests\":1,\"openConnections\":1},\"connectionStats\":{\"waitforConnectionInit\":\"True\",\"callsPendingReceive\":0,\"lastSendAttempt\":\"2024-10-24T03:41:32.2649961Z\",\"lastSend\":\"2024-10-24T03:41:32.2650180Z\",\"lastReceive\":\"2024-10-24T03:41:32.2654387Z\"},\"requestSizeInBytes\":529,\"responseMetadataSizeInBytes\":146,\"responseBodySizeInBytes\":84};\n",
      " ResourceType: Document, OperationType: Read\n",
      ", Microsoft.Azure.Documents.Common/2.14.0\n",
      "Code: NotFound\n",
      "Message: Entity with the specified id does not exist in the system. More info: https://aka.ms/cosmosdb-tsg-not-found, \n",
      "RequestStartTime: 2024-10-24T03:41:32.2473118Z, RequestEndTime: 2024-10-24T03:41:32.2670574Z,  Number of regions attempted:1\n",
      "{\"systemHistory\":[{\"dateUtc\":\"2024-10-24T03:40:39.7695580Z\",\"cpu\":0.324,\"memory\":492371168.000,\"threadInfo\":{\"isThreadStarving\":\"False\",\"threadWaitIntervalInMs\":0.1191,\"availableThreads\":32765,\"minThreads\":52,\"maxThreads\":32767},\"numberOfOpenTcpConnection\":594},{\"dateUtc\":\"2024-10-24T03:40:49.7798316Z\",\"cpu\":0.156,\"memory\":492528984.000,\"threadInfo\":{\"isThreadStarving\":\"False\",\"threadWaitIntervalInMs\":0.0521,\"availableThreads\":32765,\"minThreads\":52,\"maxThreads\":32767},\"numberOfOpenTcpConnection\":595},{\"dateUtc\":\"2024-10-24T03:40:59.7899555Z\",\"cpu\":0.111,\"memory\":492532336.000,\"threadInfo\":{\"isThreadStarving\":\"False\",\"threadWaitIntervalInMs\":0.0801,\"availableThreads\":32765,\"minThreads\":52,\"maxThreads\":32767},\"numberOfOpenTcpConnection\":595},{\"dateUtc\":\"2024-10-24T03:41:09.8003149Z\",\"cpu\":0.201,\"memory\":492533592.000,\"threadInfo\":{\"isThreadStarving\":\"False\",\"threadWaitIntervalInMs\":0.1838,\"availableThreads\":32765,\"minThreads\":52,\"maxThreads\":32767},\"numberOfOpenTcpConnection\":595},{\"dateUtc\":\"2024-10-24T03:41:19.8104631Z\",\"cpu\":0.132,\"memory\":492533252.000,\"threadInfo\":{\"isThreadStarving\":\"False\",\"threadWaitIntervalInMs\":0.0388,\"availableThreads\":32765,\"minThreads\":52,\"maxThreads\":32767},\"numberOfOpenTcpConnection\":595},{\"dateUtc\":\"2024-10-24T03:41:29.8205576Z\",\"cpu\":0.177,\"memory\":492450764.000,\"threadInfo\":{\"isThreadStarving\":\"False\",\"threadWaitIntervalInMs\":0.0702,\"availableThreads\":32765,\"minThreads\":52,\"maxThreads\":32767},\"numberOfOpenTcpConnection\":595}]}\n",
      "RequestStart: 2024-10-24T03:41:32.2475949Z; ResponseTime: 2024-10-24T03:41:32.2670574Z; StoreResult: StorePhysicalAddress: rntbd://cdb-ms-prod-westus2-be185.documents.azure.com:14178/apps/0d4cce93-0bf2-4064-976d-8940fdf1ad7e/services/67679427-d37b-474a-94be-c21d0b80b326/partitions/041b8985-a45d-48fd-9ca9-71e67c74177a/replicas/133742043134906936s, LSN: 4, GlobalCommittedLsn: 4, PartitionKeyRangeId: 0, IsValid: True, StatusCode: 404, SubStatusCode: 0, RequestCharge: 1, ItemLSN: -1, SessionToken: -1#4, UsingLocalLSN: True, TransportException: null, BELatencyMs: 0.308, ActivityId: 5df4a4e8-ca85-415e-97a6-5463e1959d39, RetryAfterInMs: , ReplicaHealthStatuses: [(port: 14330 | status: Unknown | lkt: 10/24/2024 3:06:04 AM),(port: 14091 | status: Unknown | lkt: 10/24/2024 3:06:04 AM),(port: 14178 | status: Unknown | lkt: 10/24/2024 3:06:04 AM),(port: 14329 | status: Unknown | lkt: 10/24/2024 3:06:04 AM)], TransportRequestTimeline: {\"requestTimeline\":[{\"event\": \"Created\", \"startTimeUtc\": \"2024-10-24T03:41:32.2475231Z\", \"durationInMs\": 0.0077},{\"event\": \"ChannelAcquisitionStarted\", \"startTimeUtc\": \"2024-10-24T03:41:32.2475308Z\", \"durationInMs\": 18.4368},{\"event\": \"Pipelined\", \"startTimeUtc\": \"2024-10-24T03:41:32.2659676Z\", \"durationInMs\": 0.0596},{\"event\": \"Transit Time\", \"startTimeUtc\": \"2024-10-24T03:41:32.2660272Z\", \"durationInMs\": 0.8262},{\"event\": \"Received\", \"startTimeUtc\": \"2024-10-24T03:41:32.2668534Z\", \"durationInMs\": 0.1902},{\"event\": \"Completed\", \"startTimeUtc\": \"2024-10-24T03:41:32.2670436Z\", \"durationInMs\": 0}],\"serviceEndpointStats\":{\"inflightRequests\":1,\"openConnections\":1},\"connectionStats\":{\"waitforConnectionInit\":\"True\",\"callsPendingReceive\":0,\"lastSendAttempt\":\"2024-10-24T03:41:32.2649961Z\",\"lastSend\":\"2024-10-24T03:41:32.2650180Z\",\"lastReceive\":\"2024-10-24T03:41:32.2654387Z\"},\"requestSizeInBytes\":529,\"responseMetadataSizeInBytes\":146,\"responseBodySizeInBytes\":84};\n",
      " ResourceType: Document, OperationType: Read\n",
      ", Microsoft.Azure.Documents.Common/2.14.0\n"
     ]
    }
   ],
   "source": [
    "try:\n",
    "    item = container.read_item(item=\"2\", partition_key=\"1\")\n",
    "    item['precio'] = 25.99\n",
    "    item['departamento'] = 'Artefactos'\n",
    "    container.replace_item(item=item, body=item)\n",
    "except Exception as e:\n",
    "    print('Error al actualizar el documento',e)\n",
    "\n"
   ]
  },
  {
   "cell_type": "code",
   "execution_count": 15,
   "metadata": {},
   "outputs": [],
   "source": [
    "container.delete_item(item='1', partition_key='1')"
   ]
  }
 ],
 "metadata": {
  "kernelspec": {
   "display_name": "Python 3",
   "language": "python",
   "name": "python3"
  },
  "language_info": {
   "codemirror_mode": {
    "name": "ipython",
    "version": 3
   },
   "file_extension": ".py",
   "mimetype": "text/x-python",
   "name": "python",
   "nbconvert_exporter": "python",
   "pygments_lexer": "ipython3",
   "version": "3.12.1"
  }
 },
 "nbformat": 4,
 "nbformat_minor": 2
}
