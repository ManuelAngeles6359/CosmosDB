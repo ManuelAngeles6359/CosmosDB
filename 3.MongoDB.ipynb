{
 "cells": [
  {
   "cell_type": "code",
   "execution_count": 1,
   "metadata": {},
   "outputs": [
    {
     "name": "stdout",
     "output_type": "stream",
     "text": [
      "Collecting pymongo\n",
      "  Downloading pymongo-4.10.1-cp312-cp312-manylinux_2_17_x86_64.manylinux2014_x86_64.whl.metadata (22 kB)\n",
      "Collecting dnspython<3.0.0,>=1.16.0 (from pymongo)\n",
      "  Downloading dnspython-2.7.0-py3-none-any.whl.metadata (5.8 kB)\n",
      "Downloading pymongo-4.10.1-cp312-cp312-manylinux_2_17_x86_64.manylinux2014_x86_64.whl (1.9 MB)\n",
      "\u001b[2K   \u001b[90m━━━━━━━━━━━━━━━━━━━━━━━━━━━━━━━━━━━━━━━━\u001b[0m \u001b[32m1.9/1.9 MB\u001b[0m \u001b[31m6.6 MB/s\u001b[0m eta \u001b[36m0:00:00\u001b[0mta \u001b[36m0:00:01\u001b[0m\n",
      "\u001b[?25hDownloading dnspython-2.7.0-py3-none-any.whl (313 kB)\n",
      "Installing collected packages: dnspython, pymongo\n",
      "Successfully installed dnspython-2.7.0 pymongo-4.10.1\n",
      "Note: you may need to restart the kernel to use updated packages.\n"
     ]
    }
   ],
   "source": [
    "pip install pymongo"
   ]
  },
  {
   "cell_type": "code",
   "execution_count": 3,
   "metadata": {},
   "outputs": [],
   "source": [
    "CONNECTION_STRING = ''"
   ]
  },
  {
   "cell_type": "code",
   "execution_count": 4,
   "metadata": {},
   "outputs": [],
   "source": [
    "from pymongo import MongoClient"
   ]
  },
  {
   "cell_type": "code",
   "execution_count": 5,
   "metadata": {},
   "outputs": [
    {
     "name": "stderr",
     "output_type": "stream",
     "text": [
      "/tmp/ipykernel_1359/3970916675.py:1: UserWarning: You appear to be connected to a CosmosDB cluster. For more information regarding feature compatibility and support please visit https://www.mongodb.com/supportability/cosmosdb\n",
      "  client = MongoClient(CONNECTION_STRING)\n"
     ]
    }
   ],
   "source": [
    "client = MongoClient(CONNECTION_STRING)"
   ]
  },
  {
   "cell_type": "code",
   "execution_count": 6,
   "metadata": {},
   "outputs": [],
   "source": [
    "db = client['Test']"
   ]
  },
  {
   "cell_type": "code",
   "execution_count": null,
   "metadata": {},
   "outputs": [],
   "source": [
    "collection = db.create_collection('retail')"
   ]
  },
  {
   "cell_type": "code",
   "execution_count": 10,
   "metadata": {},
   "outputs": [
    {
     "data": {
      "text/plain": [
       "'id_1'"
      ]
     },
     "execution_count": 10,
     "metadata": {},
     "output_type": "execute_result"
    }
   ],
   "source": [
    "collection.create_index('id',unique=True)"
   ]
  },
  {
   "cell_type": "code",
   "execution_count": 13,
   "metadata": {},
   "outputs": [],
   "source": [
    "documento = {\n",
    "    \"id\":\"2\",\n",
    "    \"nombre\":\"Producto A\",\n",
    "    \"descripcion\":\"Descripción del producto A\",\n",
    "    \"precio\":29.99,\n",
    "    \"categoria\":\"Electronica\"\n",
    "}\n",
    "\n"
   ]
  },
  {
   "cell_type": "code",
   "execution_count": 14,
   "metadata": {},
   "outputs": [
    {
     "data": {
      "text/plain": [
       "InsertOneResult(ObjectId('6719d0d39e64ecc3174ffdcc'), acknowledged=True)"
      ]
     },
     "execution_count": 14,
     "metadata": {},
     "output_type": "execute_result"
    }
   ],
   "source": [
    "collection.insert_one(documento)"
   ]
  },
  {
   "cell_type": "code",
   "execution_count": 1,
   "metadata": {},
   "outputs": [],
   "source": [
    "documentos = [\n",
    "    {\n",
    "        \"id\": f\"producto_{i}\",\n",
    "        \"nombre\": f\"Producto {i}\",\n",
    "        \"descripcion\": f\"Descripción del producto {i}\",\n",
    "        \"precio\":20 + i,\n",
    "        \"categoria\":\"Accesorios\"\n",
    "    }\n",
    "    for i in range(2,12)\n",
    "]"
   ]
  },
  {
   "cell_type": "code",
   "execution_count": 2,
   "metadata": {},
   "outputs": [
    {
     "data": {
      "text/plain": [
       "[{'id': 'producto_2',\n",
       "  'nombre': 'Producto 2',\n",
       "  'descripcion': 'Descripción del producto 2',\n",
       "  'precio': 22,\n",
       "  'categoria': 'Accesorios'},\n",
       " {'id': 'producto_3',\n",
       "  'nombre': 'Producto 3',\n",
       "  'descripcion': 'Descripción del producto 3',\n",
       "  'precio': 23,\n",
       "  'categoria': 'Accesorios'},\n",
       " {'id': 'producto_4',\n",
       "  'nombre': 'Producto 4',\n",
       "  'descripcion': 'Descripción del producto 4',\n",
       "  'precio': 24,\n",
       "  'categoria': 'Accesorios'},\n",
       " {'id': 'producto_5',\n",
       "  'nombre': 'Producto 5',\n",
       "  'descripcion': 'Descripción del producto 5',\n",
       "  'precio': 25,\n",
       "  'categoria': 'Accesorios'},\n",
       " {'id': 'producto_6',\n",
       "  'nombre': 'Producto 6',\n",
       "  'descripcion': 'Descripción del producto 6',\n",
       "  'precio': 26,\n",
       "  'categoria': 'Accesorios'},\n",
       " {'id': 'producto_7',\n",
       "  'nombre': 'Producto 7',\n",
       "  'descripcion': 'Descripción del producto 7',\n",
       "  'precio': 27,\n",
       "  'categoria': 'Accesorios'},\n",
       " {'id': 'producto_8',\n",
       "  'nombre': 'Producto 8',\n",
       "  'descripcion': 'Descripción del producto 8',\n",
       "  'precio': 28,\n",
       "  'categoria': 'Accesorios'},\n",
       " {'id': 'producto_9',\n",
       "  'nombre': 'Producto 9',\n",
       "  'descripcion': 'Descripción del producto 9',\n",
       "  'precio': 29,\n",
       "  'categoria': 'Accesorios'},\n",
       " {'id': 'producto_10',\n",
       "  'nombre': 'Producto 10',\n",
       "  'descripcion': 'Descripción del producto 10',\n",
       "  'precio': 30,\n",
       "  'categoria': 'Accesorios'},\n",
       " {'id': 'producto_11',\n",
       "  'nombre': 'Producto 11',\n",
       "  'descripcion': 'Descripción del producto 11',\n",
       "  'precio': 31,\n",
       "  'categoria': 'Accesorios'}]"
      ]
     },
     "execution_count": 2,
     "metadata": {},
     "output_type": "execute_result"
    }
   ],
   "source": [
    "documentos"
   ]
  },
  {
   "cell_type": "code",
   "execution_count": 8,
   "metadata": {},
   "outputs": [
    {
     "data": {
      "text/plain": [
       "InsertManyResult([ObjectId('671c79c0174b93619c9ed6e1'), ObjectId('671c79c0174b93619c9ed6e2'), ObjectId('671c79c0174b93619c9ed6e3'), ObjectId('671c79c0174b93619c9ed6e4'), ObjectId('671c79c0174b93619c9ed6e5'), ObjectId('671c79c0174b93619c9ed6e6'), ObjectId('671c79c0174b93619c9ed6e7'), ObjectId('671c79c0174b93619c9ed6e8'), ObjectId('671c79c0174b93619c9ed6e9'), ObjectId('671c79c0174b93619c9ed6ea')], acknowledged=True)"
      ]
     },
     "execution_count": 8,
     "metadata": {},
     "output_type": "execute_result"
    }
   ],
   "source": [
    "db['retail'].insert_many(documentos,ordered=False)"
   ]
  },
  {
   "cell_type": "code",
   "execution_count": 9,
   "metadata": {},
   "outputs": [],
   "source": [
    "collection = db['retail']"
   ]
  },
  {
   "cell_type": "code",
   "execution_count": 12,
   "metadata": {},
   "outputs": [],
   "source": [
    "query = {\"categoria\":\"Electronica\"}\n",
    "documentos = collection.find(query)"
   ]
  },
  {
   "cell_type": "code",
   "execution_count": 13,
   "metadata": {},
   "outputs": [
    {
     "name": "stdout",
     "output_type": "stream",
     "text": [
      "{'_id': ObjectId('6719cff19e64ecc3174ffdcb'), 'id': '1', 'nombre': 'Producto A', 'descripcion': 'Descripción del producto A', 'precio': 29.99, 'categoria': 'Electronica'}\n",
      "{'_id': ObjectId('6719d0d39e64ecc3174ffdcc'), 'id': '2', 'nombre': 'Producto A', 'descripcion': 'Descripción del producto A', 'precio': 29.99, 'categoria': 'Electronica'}\n"
     ]
    }
   ],
   "source": [
    "for doc in documentos:\n",
    "    print(doc)"
   ]
  },
  {
   "cell_type": "markdown",
   "metadata": {},
   "source": [
    "MODIFICAR REGISTROS"
   ]
  },
  {
   "cell_type": "code",
   "execution_count": 14,
   "metadata": {},
   "outputs": [],
   "source": [
    "query = {'id':'1'}\n",
    "nuevo_valor = {'$set':{'precio':37}}\n",
    "\n",
    "resultado = collection.update_one(query,nuevo_valor)"
   ]
  },
  {
   "cell_type": "markdown",
   "metadata": {},
   "source": [
    "ELIMINAR UN REGISTRO"
   ]
  },
  {
   "cell_type": "code",
   "execution_count": 15,
   "metadata": {},
   "outputs": [],
   "source": [
    "resultado = collection.delete_one(query)"
   ]
  },
  {
   "cell_type": "markdown",
   "metadata": {},
   "source": [
    "FILTRO AND\n",
    "\n",
    "{$and:[{'id':'2'},{'categoria':'Electronica'}]}\n",
    "\n",
    "MAYOR\n",
    "{'precio':{$gt: 25}}\n",
    "MENOR\n",
    "{'precio':{$lt: 25}}\n",
    "MENOR IGUAL\n",
    "{'precio':{$lte: 25}}\n",
    "\n",
    "FILTRO OR\n",
    "\n",
    "{$or:[{'id':'2'},{'categoria':'Electronica'}]}"
   ]
  },
  {
   "cell_type": "code",
   "execution_count": null,
   "metadata": {},
   "outputs": [],
   "source": []
  }
 ],
 "metadata": {
  "kernelspec": {
   "display_name": "Python 3",
   "language": "python",
   "name": "python3"
  },
  "language_info": {
   "codemirror_mode": {
    "name": "ipython",
    "version": 3
   },
   "file_extension": ".py",
   "mimetype": "text/x-python",
   "name": "python",
   "nbconvert_exporter": "python",
   "pygments_lexer": "ipython3",
   "version": "3.12.1"
  }
 },
 "nbformat": 4,
 "nbformat_minor": 2
}
